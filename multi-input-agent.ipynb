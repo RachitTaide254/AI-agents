{
 "cells": [
  {
   "cell_type": "code",
   "execution_count": 1,
   "metadata": {},
   "outputs": [],
   "source": [
    "from typing import List, TypedDict\n",
    "from langgraph.graph import StateGraph"
   ]
  },
  {
   "cell_type": "code",
   "execution_count": 2,
   "metadata": {},
   "outputs": [],
   "source": [
    "class AgentState(TypedDict):\n",
    "  values: List[int]\n",
    "  name: str\n",
    "  result: str\n",
    "  operation: str"
   ]
  },
  {
   "cell_type": "code",
   "execution_count": 3,
   "metadata": {},
   "outputs": [],
   "source": [
    "def process_values(state: AgentState) -> AgentState:\n",
    "  \"\"\" This function handles multiple inputs \"\"\"\n",
    "  if state[\"operation\"] == \"+\":\n",
    "    state[\"result\"] = f\"{state['name']} sum = {sum(state['values'])}\"\n",
    "  elif state[\"operation\"] == \"*\":\n",
    "      result = 1\n",
    "      for num in state['values']:\n",
    "          result *= num\n",
    "      state[\"result\"] = f\"{state['name']} mul = {result}\"\n",
    "  else:\n",
    "    state[\"result\"] = \"Invalid operation\"\n",
    "  return state"
   ]
  },
  {
   "cell_type": "code",
   "execution_count": 4,
   "metadata": {},
   "outputs": [],
   "source": [
    "graph = StateGraph(AgentState)\n",
    "\n",
    "graph.add_node(\"processor\",process_values)\n",
    "graph.set_entry_point(\"processor\")\n",
    "graph.set_finish_point(\"processor\")\n",
    "\n",
    "app = graph.compile()"
   ]
  },
  {
   "cell_type": "code",
   "execution_count": 6,
   "metadata": {},
   "outputs": [
    {
     "name": "stdout",
     "output_type": "stream",
     "text": [
      "{'values': [1, 2, 3, 4, 5], 'name': 'Rachit', 'result': 'Rachit mul = 120', 'operation': '*'}\n"
     ]
    }
   ],
   "source": [
    "result = app.invoke({\"values\":[1,2,3,4,5],\"name\":\"Rachit\",\"operation\":\"*\"})\n",
    "print(result)"
   ]
  },
  {
   "cell_type": "code",
   "execution_count": null,
   "metadata": {},
   "outputs": [],
   "source": []
  }
 ],
 "metadata": {
  "kernelspec": {
   "display_name": "Python 3",
   "language": "python",
   "name": "python3"
  },
  "language_info": {
   "codemirror_mode": {
    "name": "ipython",
    "version": 3
   },
   "file_extension": ".py",
   "mimetype": "text/x-python",
   "name": "python",
   "nbconvert_exporter": "python",
   "pygments_lexer": "ipython3",
   "version": "3.11.0"
  }
 },
 "nbformat": 4,
 "nbformat_minor": 2
}
