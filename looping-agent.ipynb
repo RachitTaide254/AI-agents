{
 "cells": [
  {
   "cell_type": "code",
   "execution_count": 1,
   "metadata": {},
   "outputs": [],
   "source": [
    "from typing import List,TypedDict, Dict\n",
    "import random\n",
    "from langgraph.graph import StateGraph, START, END"
   ]
  },
  {
   "cell_type": "code",
   "execution_count": 2,
   "metadata": {},
   "outputs": [],
   "source": [
    "class AgentState(TypedDict):\n",
    "  number: List[int]\n",
    "  name: str\n",
    "  counter: int"
   ]
  },
  {
   "cell_type": "code",
   "execution_count": 3,
   "metadata": {},
   "outputs": [],
   "source": [
    "def greeting_node(state:AgentState) -> AgentState:\n",
    "  state['name'] = f\"Hello, {state['name']}\"\n",
    "  state['counter'] = 0\n",
    "  return state\n",
    "\n",
    "def random_node(state:AgentState) -> AgentState:\n",
    "  state['number'].append(random.randint(1,10))\n",
    "  state['counter'] += 1\n",
    "  return state\n",
    "\n",
    "def should_continue(state:AgentState) -> AgentState:\n",
    "  if state['counter'] < 5:\n",
    "    return 'loop'\n",
    "  else:\n",
    "    return 'exit'"
   ]
  },
  {
   "cell_type": "code",
   "execution_count": 4,
   "metadata": {},
   "outputs": [],
   "source": [
    "graph = StateGraph(AgentState)\n",
    "\n",
    "graph.add_node(\"greeting\",greeting_node)\n",
    "graph.add_node(\"random\",random_node)\n",
    "graph.add_edge('greeting','random')\n",
    "\n",
    "graph.add_node(\"should_continue\",should_continue)\n",
    "\n",
    "graph.add_conditional_edges(\n",
    "    'random',\n",
    "    should_continue,\n",
    "    {\n",
    "        'loop':'random',\n",
    "        'exit':END\n",
    "    }\n",
    ")\n",
    "graph.set_entry_point('greeting')\n",
    "\n",
    "app = graph.compile()"
   ]
  },
  {
   "cell_type": "code",
   "execution_count": 5,
   "metadata": {},
   "outputs": [
    {
     "name": "stdout",
     "output_type": "stream",
     "text": [
      "{'number': [5, 1, 9, 5, 7], 'name': 'Hello, Rachit', 'counter': 5}\n"
     ]
    }
   ],
   "source": [
    "res = app.invoke({\"name\":\"Rachit\",\"number\":[],\"counter\":20000})\n",
    "print(res)"
   ]
  }
 ],
 "metadata": {
  "kernelspec": {
   "display_name": "Python 3",
   "language": "python",
   "name": "python3"
  },
  "language_info": {
   "codemirror_mode": {
    "name": "ipython",
    "version": 3
   },
   "file_extension": ".py",
   "mimetype": "text/x-python",
   "name": "python",
   "nbconvert_exporter": "python",
   "pygments_lexer": "ipython3",
   "version": "3.11.0"
  }
 },
 "nbformat": 4,
 "nbformat_minor": 2
}
