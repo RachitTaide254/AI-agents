{
 "cells": [
  {
   "cell_type": "code",
   "execution_count": 1,
   "metadata": {},
   "outputs": [],
   "source": [
    "from typing import List,TypedDict\n",
    "from langgraph.graph import StateGraph, START, END"
   ]
  },
  {
   "cell_type": "code",
   "execution_count": 2,
   "metadata": {},
   "outputs": [],
   "source": [
    "class AgentState(TypedDict):\n",
    "  number1: int\n",
    "  number2: int\n",
    "  operation: str\n",
    "  finalNumber: int"
   ]
  },
  {
   "cell_type": "code",
   "execution_count": 3,
   "metadata": {},
   "outputs": [],
   "source": [
    "def adder(state:AgentState) -> AgentState:\n",
    "  \"\"\" This function adds two numbers \"\"\"\n",
    "  state[\"finalNumber\"] = state[\"number1\"] + state[\"number2\"]\n",
    "  return state\n",
    "\n",
    "def subtractor(state:AgentState) -> AgentState:\n",
    "  \"\"\" This function subtracts two numbers \"\"\"\n",
    "  state[\"finalNumber\"] = state[\"number1\"] - state[\"number2\"]\n",
    "  return state\n",
    "\n",
    "def decide_next_node(state:AgentState) -> str:\n",
    "  \"\"\" This function decides which node to execute next \"\"\"\n",
    "  if state[\"operation\"] == \"+\":\n",
    "    return \"addition_operation\"\n",
    "  elif state[\"operation\"] == \"-\":\n",
    "    return \"subtraction_operation\""
   ]
  },
  {
   "cell_type": "code",
   "execution_count": 4,
   "metadata": {},
   "outputs": [],
   "source": [
    "graph = StateGraph(AgentState)\n",
    "\n",
    "graph.add_node(\"addition_node\",adder)\n",
    "graph.add_node(\"subtraction_node\",subtractor)\n",
    "graph.add_node(\"router\",lambda state:state)\n",
    "\n",
    "graph.add_edge(START,\"router\")\n",
    "graph.add_conditional_edges(\n",
    "    \"router\",\n",
    "    decide_next_node,\n",
    "    {\n",
    "        \"addition_operation\": \"addition_node\",\n",
    "        \"subtraction_operation\": \"subtraction_node\"\n",
    "    }\n",
    ")\n",
    "graph.add_edge(\"addition_node\",END)\n",
    "graph.add_edge(\"subtraction_node\",END)\n",
    "\n",
    "app = graph.compile()"
   ]
  },
  {
   "cell_type": "code",
   "execution_count": 6,
   "metadata": {},
   "outputs": [
    {
     "name": "stdout",
     "output_type": "stream",
     "text": [
      "{'number1': 10, 'number2': 5, 'operation': '+', 'finalNumber': 15}\n"
     ]
    }
   ],
   "source": [
    "res = app.invoke({\"number1\":10,\"number2\":5,\"operation\":\"+\"})\n",
    "print(res)"
   ]
  }
 ],
 "metadata": {
  "kernelspec": {
   "display_name": "Python 3",
   "language": "python",
   "name": "python3"
  },
  "language_info": {
   "codemirror_mode": {
    "name": "ipython",
    "version": 3
   },
   "file_extension": ".py",
   "mimetype": "text/x-python",
   "name": "python",
   "nbconvert_exporter": "python",
   "pygments_lexer": "ipython3",
   "version": "3.11.0"
  }
 },
 "nbformat": 4,
 "nbformat_minor": 2
}
