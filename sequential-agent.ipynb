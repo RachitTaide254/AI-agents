{
 "cells": [
  {
   "cell_type": "code",
   "execution_count": 1,
   "metadata": {},
   "outputs": [],
   "source": [
    "from typing import TypedDict\n",
    "from langgraph.graph import StateGraph"
   ]
  },
  {
   "cell_type": "code",
   "execution_count": 2,
   "metadata": {},
   "outputs": [],
   "source": [
    "class AgentState(TypedDict):\n",
    "  name: str\n",
    "  age: str\n",
    "  final: str"
   ]
  },
  {
   "cell_type": "code",
   "execution_count": 3,
   "metadata": {},
   "outputs": [],
   "source": [
    "def first_node(state:AgentState) -> AgentState:\n",
    "  \"\"\" This is first node of a sequence\"\"\"\n",
    "  state[\"final\"] = f\"Hi {state['name']}\"\n",
    "  return state\n",
    "\n",
    "def sec_node(state:AgentState) -> AgentState:\n",
    "  \"\"\" This is second node of a sequence\"\"\"\n",
    "  state[\"final\"] = f\"{state['final']}, you are {state['age']} years old!\"\n",
    "  return state"
   ]
  },
  {
   "cell_type": "code",
   "execution_count": 4,
   "metadata": {},
   "outputs": [],
   "source": [
    "graph = StateGraph(AgentState)\n",
    "\n",
    "graph.add_node(\"first\",first_node)\n",
    "graph.add_node(\"second\",sec_node)\n",
    "graph.set_entry_point(\"first\")\n",
    "graph.add_edge(\"first\",\"second\")\n",
    "graph.set_finish_point(\"second\")\n",
    "app = graph.compile()"
   ]
  },
  {
   "cell_type": "code",
   "execution_count": 5,
   "metadata": {},
   "outputs": [
    {
     "name": "stdout",
     "output_type": "stream",
     "text": [
      "{'name': 'Rachit', 'age': '27', 'final': 'Hi Rachit, you are 27 years old!'}\n"
     ]
    }
   ],
   "source": [
    "res = app.invoke({'name':\"Rachit\",'age':\"27\"})\n",
    "print(res)"
   ]
  }
 ],
 "metadata": {
  "kernelspec": {
   "display_name": "Python 3",
   "language": "python",
   "name": "python3"
  },
  "language_info": {
   "codemirror_mode": {
    "name": "ipython",
    "version": 3
   },
   "file_extension": ".py",
   "mimetype": "text/x-python",
   "name": "python",
   "nbconvert_exporter": "python",
   "pygments_lexer": "ipython3",
   "version": "3.11.0"
  }
 },
 "nbformat": 4,
 "nbformat_minor": 2
}
